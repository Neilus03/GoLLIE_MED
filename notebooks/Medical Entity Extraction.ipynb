{
 "cells": [
  {
   "cell_type": "markdown",
   "metadata": {},
   "source": [
    "# GoLLIE for Medical Entity Extraction"
   ]
  },
  {
   "cell_type": "markdown",
   "metadata": {},
   "source": [
    "### Import requeriments\n",
    "See the requeriments.txt file in the main directory to install the required dependencies\n"
   ]
  },
  {
   "cell_type": "code",
   "execution_count": 1,
   "metadata": {
    "metadata": {}
   },
   "outputs": [],
   "source": [
    "import sys\n",
    "sys.path.append(\"../\") # Add the GoLLIE base directory to sys path"
   ]
  },
  {
   "cell_type": "code",
   "execution_count": 2,
   "metadata": {
    "metadata": {}
   },
   "outputs": [],
   "source": [
    "import rich \n",
    "import logging\n",
    "from src.model.load_model import load_model\n",
    "import black\n",
    "import inspect\n",
    "from jinja2 import Template as jinja2Template\n",
    "import tempfile\n",
    "from src.tasks.utils_typing import AnnotationList\n",
    "logging.basicConfig(level=logging.INFO)\n",
    "from typing import Dict, List, Type"
   ]
  },
  {
   "cell_type": "markdown",
   "metadata": {},
   "source": [
    "## Load GoLLIE\n",
    "\n",
    "Load GOLLIE-7B from the huggingface-hub.\n",
    "Use the AutoModelForCausalLM.from_pretrained function if you prefer it. However, creators provide a handy load_model function with many functionalities already implemented that will assist you in reproducing our results.\n",
    "\n",
    "Please note that setting use_flash_attention=True is mandatory. Our flash attention implementation has small numerical differences compared to the attention implementation in Huggingface. Using use_flash_attention=False will result in the model producing inferior results. Flash attention requires an available CUDA GPU. Running GOLLIE pre-trained models on a CPU is not supported.\n",
    "\n",
    "- Set force_auto_device_map=True to automatically load the model on available GPUs.\n",
    "- Set quantization=4 if the model doesn't fit in your GPU memory."
   ]
  },
  {
   "cell_type": "code",
   "execution_count": 3,
   "metadata": {
    "metadata": {}
   },
   "outputs": [
    {
     "name": "stderr",
     "output_type": "stream",
     "text": [
      "INFO:root:Loading model model from HiTZ/GoLLIE-7B\n",
      "WARNING:root:Using auto device map, we will split the model across GPUs and CPU to fit the model in memory.\n",
      "INFO:root:We will load the model using the following device map: auto and max_memory: None\n",
      "INFO:root:Loading model with dtype: torch.bfloat16\n",
      "WARNING:root:Model HiTZ/GoLLIE-7B is an decoder-only model. We will load it as a CausalLM model.\n",
      "WARNING:root:Using Flash Attention for LLaMA model.\n"
     ]
    },
    {
     "name": "stdout",
     "output_type": "stream",
     "text": [
      ">>>> Flash Attention installed\n",
      ">>>> Flash RoPE installed\n"
     ]
    },
    {
     "data": {
      "application/vnd.jupyter.widget-view+json": {
       "model_id": "ef8bb71dd46c49e2a4887efa46b03f72",
       "version_major": 2,
       "version_minor": 0
      },
      "text/plain": [
       "Loading checkpoint shards:   0%|          | 0/2 [00:00<?, ?it/s]"
      ]
     },
     "metadata": {},
     "output_type": "display_data"
    },
    {
     "name": "stderr",
     "output_type": "stream",
     "text": [
      "INFO:root:Model dtype: torch.bfloat16\n",
      "INFO:root:Total model memory footprint: 13477.101762 MB\n"
     ]
    }
   ],
   "source": [
    "#Use the custom load_model for loading GoLLIE\n",
    "model, tokenizer = load_model(\n",
    "    inference=True,\n",
    "    model_weights_name_or_path=\"HiTZ/GoLLIE-7B\",\n",
    "    quantization=None,\n",
    "    use_lora=False,\n",
    "    force_auto_device_map=True,\n",
    "    use_flash_attention=True,\n",
    "    torch_dtype=\"bfloat16\"\n",
    ")"
   ]
  },
  {
   "cell_type": "markdown",
   "metadata": {},
   "source": [
    "## Define the guidelines\n",
    "\n",
    "First, we will define the labels and guidelines for the task. We will represent them as Python classes.\n",
    "\n",
    "The following guidelines have been defined for this example. They were not part of the pre-training dataset. Therefore, we will run GOLLIE in zero-shot settings using unseen labels.\n",
    "\n",
    "We will use the `Generic` class, which is a versatile class that allows for the implementation of any task you want. However, since the model has never seen the Generic label during training, we will rename it to Template, which is recognized by the model (as it was used in the Tacred dataset).\n",
    "\n",
    "We will define several classes: `Illness`, `Medication`, `PatientData`, `HospitalizationData`. Each class will have a definition and a set of slots that the model needs to fill. Each slot also requires a type definition and a short description, which can include examples. For instance, for the `Illness` class, we define three slots:\n",
    "\n",
    "- The `mention`, which will be the name of the Ilness of the patient and should be a string.\n",
    "- The `treatment` which will be a list of treatments or interventions used to manage the illness. \n",
    "- The `symptoms`, which is defined as a list of symptoms. Therefore, GoLLIE will fill this slot with a list of strings.\n"
   ]
  },
  {
   "cell_type": "code",
   "execution_count": 18,
   "metadata": {},
   "outputs": [],
   "source": [
    "from typing import List\n",
    "\n",
    "from src.tasks.utils_typing import dataclass\n",
    "from src.tasks.utils_typing import Generic as Template\n",
    "from dataclasses import dataclass, field\n",
    "\"\"\"\n",
    "Entity definitions\n",
    "\"\"\"\n",
    "\n",
    "\n",
    "@dataclass\n",
    "class Medication(Template):\n",
    "    \"\"\"Refers to a drug or substance used to diagnose, cure, treat, or prevent disease.\n",
    "    Medications can be administered in various forms and dosages and are crucial \n",
    "    in managing patient health conditions. They can be classified based on their \n",
    "    therapeutic use, mechanism of action, or chemical characteristics.\"\"\"\n",
    "    \n",
    "    mention: str\n",
    "    \"\"\"\n",
    "    The name of the medication.\n",
    "    Such as: \"Aspirina\", \"Ibuprofeno\", \"Aspirina\".\n",
    "    \"\"\"\n",
    "    dosage: str # The amount and frequency at which the medication is prescribed. Such as: \"100 mg al día\", \"200 mg dos veces al día\"\n",
    "    route: str # The method of administration for the medication. Such as: \"oral\", \"intravenoso\", \"tópico\"\n",
    "    purpose: List[str]  # List of reasons or conditions for which the medication is prescribed. Such as: [\"dolor\", \"control de azúcar en la sangre\", \"inflamación\"]\n",
    "    \n",
    "\n",
    "@dataclass\n",
    "class Ilness(Template):\n",
    "    \"\"\"Refers to a health condition or disease that affects the body's normal functioning.\n",
    "    Illnesses can be caused by various factors, such as infections, genetic disorders,\n",
    "    lifestyle choices, or environmental factors. They can affect different body systems\n",
    "    and have varying degrees of severity.\"\"\"\n",
    "    \n",
    "    mention: str\n",
    "    \"\"\"\n",
    "    The name of the illness or health condition.\n",
    "    Such as: \"diabetes\", \"cáncer\", \"hipertensión\".\n",
    "    \"\"\"\n",
    "    symptoms: List[str] # List of signs or symptoms associated with the illness. Such as: [\"dolor de cabeza\", \"fatiga\", \"fiebre\"]\n",
    "    treatment: List[str] # List of treatments or interventions used to manage the illness. Such as: [\"medicamentos\", \"cirugía\", \"terapia física\"]\n",
    "\n",
    "\n",
    "@dataclass\n",
    "class HospitalizationData:\n",
    "    \"\"\"Refers to information related to a patient's hospitalization, including the\n",
    "    admission date, discharge date, and reason for hospitalization. Hospitalization\n",
    "    data is essential for tracking patient health status, treatment progress, and\n",
    "    healthcare resource utilization.\"\"\"\n",
    "    \n",
    "    admission_date: str #The date on which the patient was admitted to the hospital.\n",
    "    discharge_date: str #The date on which the patient was discharged from the hospital.\n",
    "    reason: str #the reason or cause for the patient's hospitalization.\n",
    "    \n",
    "    \n",
    "@dataclass\n",
    "class PatientData:\n",
    "    \"\"\"Refers to information related to a patient's medical history, including\n",
    "    name, age or urgency. Patient data is essential for healthcare providers \n",
    "    to provide appropriate care and make informed decisions about patient management.\"\"\"\n",
    "    \n",
    "    name: str #The name of the patient.\n",
    "    age: int #The age of the patient.\n",
    "    urgency: str #The urgency level of the patient's condition.\n",
    "    \n",
    "    \n",
    "    \n",
    "ENTITY_DEFINITIONS: List[Template] = [\n",
    "    Medication,\n",
    "    Ilness,\n",
    "    HospitalizationData,\n",
    "]\n",
    "\n",
    "\n",
    "\n",
    "if __name__ == \"__main__\":\n",
    "    cell_txt = In[-1] #In needs to be imported from IPython\n"
   ]
  },
  {
   "cell_type": "markdown",
   "metadata": {},
   "source": [
    "### Print the guidelines to guidelines.py\n",
    "\n",
    "Due to IPython limitations, we must write the content of the previous cell to a file and then import the content from that file."
   ]
  },
  {
   "cell_type": "code",
   "execution_count": 19,
   "metadata": {},
   "outputs": [],
   "source": [
    "with open(\"guidelines.py\",\"w\",encoding=\"utf8\") as python_guidelines:\n",
    "    print(cell_txt,file=python_guidelines)\n",
    "\n",
    "from guidelines import *    ### Print the guidelines to guidelines.py\n"
   ]
  },
  {
   "cell_type": "markdown",
   "metadata": {},
   "source": [
    "We use inspect.getsource to get the guidelines as a string"
   ]
  },
  {
   "cell_type": "code",
   "execution_count": 20,
   "metadata": {},
   "outputs": [
    {
     "data": {
      "text/plain": [
       "['@dataclass\\nclass Medication(Template):\\n    \"\"\"Refers to a drug or substance used to diagnose, cure, treat, or prevent disease.\\n    Medications can be administered in various forms and dosages and are crucial \\n    in managing patient health conditions. They can be classified based on their \\n    therapeutic use, mechanism of action, or chemical characteristics.\"\"\"\\n    \\n    mention: str\\n    \"\"\"\\n    The name of the medication.\\n    Such as: \"Aspirina\", \"Ibuprofeno\", \"Aspirina\".\\n    \"\"\"\\n    dosage: str # The amount and frequency at which the medication is prescribed. Such as: \"100 mg al día\", \"200 mg dos veces al día\"\\n    route: str # The method of administration for the medication. Such as: \"oral\", \"intravenoso\", \"tópico\"\\n    purpose: List[str]  # List of reasons or conditions for which the medication is prescribed. Such as: [\"dolor\", \"control de azúcar en la sangre\", \"inflamación\"]\\n',\n",
       " '@dataclass\\nclass Ilness(Template):\\n    \"\"\"Refers to a health condition or disease that affects the body\\'s normal functioning.\\n    Illnesses can be caused by various factors, such as infections, genetic disorders,\\n    lifestyle choices, or environmental factors. They can affect different body systems\\n    and have varying degrees of severity.\"\"\"\\n    \\n    mention: str\\n    \"\"\"\\n    The name of the illness or health condition.\\n    Such as: \"diabetes\", \"cáncer\", \"hipertensión\".\\n    \"\"\"\\n    symptoms: List[str] # List of signs or symptoms associated with the illness. Such as: [\"dolor de cabeza\", \"fatiga\", \"fiebre\"]\\n    treatment: List[str] # List of treatments or interventions used to manage the illness. Such as: [\"medicamentos\", \"cirugía\", \"terapia física\"]\\n',\n",
       " '@dataclass\\nclass HospitalizationData:\\n    \"\"\"Refers to information related to a patient\\'s hospitalization, including the\\n    admission date, discharge date, and reason for hospitalization. Hospitalization\\n    data is essential for tracking patient health status, treatment progress, and\\n    healthcare resource utilization.\"\"\"\\n    \\n    admission_date: str #The date on which the patient was admitted to the hospital.\\n    discharge_date: str #The date on which the patient was discharged from the hospital.\\n    reason: str #the reason or cause for the patient\\'s hospitalization.\\n']"
      ]
     },
     "execution_count": 20,
     "metadata": {},
     "output_type": "execute_result"
    }
   ],
   "source": [
    "guidelines = [inspect.getsource(definition) for definition in ENTITY_DEFINITIONS]\n",
    "guidelines"
   ]
  },
  {
   "cell_type": "markdown",
   "metadata": {},
   "source": [
    "## Define input sentence\n",
    "\n",
    "Here we define the input sentence and the gold labels.\n",
    "\n",
    "You can define and empy list as gold labels if you don't have gold annotations."
   ]
  },
  {
   "cell_type": "code",
   "execution_count": 21,
   "metadata": {},
   "outputs": [],
   "source": [
    "import json\n",
    "#import gt dataset\n",
    "data = json.load(open('/hhome/nlp2_g09/Project/uab_summary_2024_with_gt.json'))"
   ]
  },
  {
   "cell_type": "code",
   "execution_count": 22,
   "metadata": {},
   "outputs": [
    {
     "data": {
      "text/plain": [
       "{'Id': '1006949703',\n",
       " 'Summary': '\\n\\n\\n\\nPaciente que ingresa por deterioro de estado general manifestado por disnea, astenia, edema y somnolencia con antecedentes de hipertensión arterial, EPOC, colitis isquémica, cirrosis hepática enólica, encefalopatía hepática y ERC. Durante el ingreso las pruebas exploratorias realizadas muestran cardiopatía hipertensiva, insuficiencia renal aguda de posible causa prerrenal e hipertensión portal sinuosidal. El diagnóstico se orienta a insuficiencia renal aguda en paciente con enfermedad renal cronica, sobrecarga de volúmen, insuficiencia respiratoria mixta y fiebre lo cual se decide tratar con diuréticos, antibióticos y oxigenoterapia con buena respuesta. Debido a la mejoría clínica del paciente  se procede al alta bajo seguimiento de especialistas y tratamiento farmacológico habitual. \\n\\n\\n',\n",
       " 'Text': \" diagnostic alta codi icd-10 descripcio diagnostic k70.3 cirrosi hepatica alcoholica r18.8 altres tipus d'ascites dades informe motivo de ingreso: mal estado general antecedentes personales: no ram. hta. disnea a pequeños esfuerzos y epoc gold ii en seguimiento en neumologia en tratamiento broncodilatador y oxigenoterapia en concentrador portatil a 3lx' para la deambulacion desde enero 2023. elevacion de hemidiafragma izquierdo y adenopatia hiliar derecha con captacion en pet-tc estudiado con ebus + fbs sin lesiones endobronquiales y con ap negativa para malignidad del bas y adenopatias puncionadas. hemorragia digestiva baja secundaria a colitis isquemica en setiembre 2022 (cordoba). colelitiasis. - cirrosis hepatica enolica child c en seguimiento en consulta ch intensivo (dra. martin) **descompensacion edemo-ascitica en junio 2022 con empeoramiento tras ingreso hospitalario por colitis isquemica (setiembre 2022), en tratamiento diuretico con espironolactona 200mg/dia + furosemida 80mg/dia desde el 18.05.23 **encefalopatia hepatica en agosto 2022. en tratamiento con lactulosa + rifaximina desde noviembre 2022 **varices esofagicas pequeñas con signos de riesgo (fgs en setiembre - cordoba) en tratamiento con carvedilol 6.25mg/12horas **ultima ecografia en marzo 2023: no loes hepaticas, porta permeable,discreta cantidad de liquido libre perihepatico y en pelvis ex enolismo cronico, abstinente desde setiembre 2022. fumador 5-6 cig/dia tratamiento habitual: acfol 5mg/dia, carvedilol 6.25mg/12horas, espironolactona 200mg/dia, furosemida 80mg/dia, lactulosa, spiolto 2ing/12horas, iabvd. vive con su madre. enfermedad actual traido por familiares a urgencias por deterioro del estado general, somnolencia, astenia y aumento de edemas en miembros inferiores a pesar de aumento de diureticos. refiere tambien que hace una semana cursa con deposiciones blandas (3-4 deposiciones/dia) sin productos patologicos motivo por el cual suspendio lactulosa. no fiebre, no sintomas urinarios, no dolor abdominal. hoy empeoramiento de su disnea habitual. exploracion fisica urgencias: tº 35.9, tas 150, tad 65, sato2 bas 94, fr 16, fc 57 estado general conservado, piel y mucosas hidratadas levemente ictericas. nrl: consciente, orientado en tiempo, espacio y persona, discurso fluido y coherente, no flapping. ac: ruidos cardiacos ritmicos sin soplos. ar: crepitantes basales bilaterales e hipofonesis basal izquierda. ************* pacient cip data naix. 12.07.1962 edat 60 sexe home nass adreça cp poblacio tel. ****************** admissio 31.05.2023 12:12 alta 16.06.2023 11:27 servei diguohmb digestologia unitat u05uhhbl data i hora d'impressio: 20.06.2023 02:53:22 ***************************************** *************************************************************** ***************** pagina 1 de 4 informe alta hospitalitzacio abdomen globuloso, blando, depresible, no palpo masas ni megalias, rha conservados, no dolor a la palpacion, sin reaccion peritoneal, edema de pared. eeii: presenta edemas en eeii hasta muslos, fovea ++. planta digestivo ta 143/74 fc72 afebril. sato2 basal 90% ap: hipofonesis en base izquierda. abd: globuloso, no clara semiologia ascitica. no irritacion peritoneal. rha + ext: edemas ++/+++ hasta muslos sn: consciente y orientado. no flapping pruebas complementarias: + analitica: leucocitos 5740 (n 3220, l 1600), hb 123 g/l, plaquetas 140000, tp 49%, inr 1.64, ttpa 1.55, glucosa 48mg/dl, creatinina 1.7 mg/dl, fg 43.98 ml/min, urea 22.1 mg/dl, sodio 139.0 mmol/l, potasio 4.0 mmol/l, alt 19.8 ui/l, albumina 1.5 g/dl, pcr 2.79 mg/l, + eab (arterial): ph 7.366, co2 24.6 mmhg, o2 65.8 mmhg, bic 13.8 mmol/l, be -9.1, sat. 89.8%. + sedimento urinario: eritrocitos 20-50/c, leucocitos 3-5/c. + rx torax : elevacion de hemidiafragma izquierdo, borramiento de angulo costofrenico izquierdo. - paracentesis x3 : blanca - analitica 01.06: leucocitos 3910, hb 10.9 g/dl, hto 30%, vcm 92, plaquetas 108000, tp 43%, glucosa 133 mg/dl, na 143, k 4.2, br 3.77 mg/dl, ast/alt 37/21, fa/ggt 82/15, pcr 1. - hemocultivo: negativo - coprocultivo: negativo - adenovirus y rotavirus en heces: negativo - gdh c. difficile en heces: negativo - pcr covid: negativo - ecocardiograma : fevi conservado. hallazgos compatibles con cardiopatia hipertensiva. - urocultivo: negativo - gammagrafia : no hay imagenes sugestivas de corresponder con tep en la gpp obtenida y, en todo caso, valoramos el estudio indeterminado en localizacion de la base pulmonar izquierda donde hay una hipoperfusion moderada no segmentaria que coincide con alteracion radiologica (atelectasia/colapso basal sin descartar sobreinfeccion asociada?? y elevacion de este hemidiafragma). - cateterismo hepatico y cardiopulmonar: cateterismo de venas suprahepaticas por via yugular. obtencion de presiones hepaticas mediante cateter balon. mediciones repetidas de la presion suprahepatica enclavada (pse) y del gradiente de presion venosa hepatica (gpvh). resultados (mmhg) pse:31.0 psl:15.5 gpvh: 15.5 pvci: 15.5 pad: 13.0 2. cateterismo cardiopulmonar. pap: 32.0 mm hg pcp: 28.0 mm hg pad: 13.0 mm hg gc: 10.1 l/min pam: 115 mm hg fc: 74 latidos/min ic: 4.9 l/min/m2 sv: 136 ml/latido rvs: 808 dynas*seg*cm-5 irvs: 1665 dynas*seg*cm-5 rvp: 32 dynas*seg*cm-5 irvp: 65 dynas*seg*cm-5 pap al final de la espiracion: 35.0 mm hg ************* pacient cip data naix. 12.07.1962 edat 60 sexe home nass adreça cp poblacio tel. ****************** admissio 31.05.2023 12:12 alta 16.06.2023 11:27 servei diguohmb digestologia unitat u05uhhbl data i hora d'impressio: 20.06.2023 02:53:22 ***************************************** *************************************************************** ***************** pagina 2 de 4 informe alta hospitalitzacio conclusiones 1.- cateterismo cardiopulmonar con presiones cardiopulmonares elevadas (pap 32 mmhg, pcp 28 mmhg, ad 13mmhg). gasto cardiaco de 10,1 l/min). 2.- hipertension portal sinusoidal clinicamente significativa con gpvh de 15,5mmhg, no se observan comunicantes veno-venosas. - orina de 24horas: total diuresis: 1.4 l/dia. albumina 5125 mg/dia proteinuria 7.39 g/24horas orientacion diagnostica - insuficiencia renal aguda en paciente con enfermedad renal cronica en estudio paciente que en analitica de ingreso tenia cr de 1.7 mg/dl, fg 43 ml/min cuando previamente tenia filtrados habituales de 70 ml/min, cr 1.1 mg/dl. se oriento como de origen prerrenal en contexto de aumento de la dosis de diureticos (estaba con espironolactona 200mg/dia + furosemida 80mg/dia ). recibio expansion con albumina 1 g/kg (80gr) el dia 31.05 y posteriormente 2 ampollas/ 12 h ev sin mayor mejoria de la funcion renal a pesar de reexpansion con albumina por lo que se suspendio albumina que se vuelve a reiniciar el dia 8/06 y se mantiene durante otras 72h. en contexto de sobrecarga de volumen el paciente cursa con empeoramiento de disnea habitual por lo que se retira albumina y se inicia tratamiento con furosemida iv 40mg/12horas dado que podria tratarse de una erc establecida se solicita estudio de orina de 24horas en la que se observa proteinuria en rangos nefroticos por lo que ha sido valorado por nefrologia, se inicia tratamiento con espironolactona 100mg/dia y furosemida 80mg/dia via oral. al alta con creat 1.8 y fg 39 - descompensacion edemo-ascitica . cirrosis hepatica enolica child c10 meld 21 puntos al ingreso con edemas que empeoran durante la hospitalizacion debido a que se suspendieron diureticos por insuficiencia renal. se reinicia diureticos debido a sobrecarga de volumen con mejoria de los edemas en miembros inferiores y disminucion del peso. se ha intentado en 3 ocasiones realizar paracentesis diagnosticas que han sido blancas. al alta con espironolactona 100mg/dia + furosemida 80mg/dia y peso de 87kg. - insuficiencia respiratoria cronica mixta : sobrecarga de volumen + restrictivo. epoc gold ii. al ingreso disnea al reposo y desaturacion por lo que ha recibido tratamiento con broncodilatadores inhalados y o2 por vmk 26%. valorado por neumologia, el grado de epoc que presenta no justifica la disnea a minimos esfuerzos y la desaturacion. en este ingreso, se solicita gammagrafia v/ p que descarta tep cronico. se ha descartado sd hepato-pulmonar por ecocardiograma con contraste burbujas que no visualiza shunts. cateterismo cardio pulmonar que descarta sde portopulmonar . elevacion hemidiafragma izquierdo que provoca atelectasia pulmonar 2º. pdte de informe de tac toracico (06.06). tras inicio de furosemida iv el paciente presenta franca mejoria de disnea y de saturacion. al alta sat o2 93-94% al aire ambiental. seguira controles en consulta de neumologia. - fiebre sin foco. resuelto el 8/06 presento pico febril asociado a desaturacion puntual. se solicitan hemocultivos, urocultivo y se realiza paracentesis que resulta blanca. se inicia cobertura atb con ceftriaxona 1gr/dia durante 5 dias. recomendaciones al alta - dieta baja en sal ************* pacient cip data naix. 12.07.1962 edat 60 sexe home nass adreça cp poblacio tel. ****************** admissio 31.05.2023 12:12 alta 16.06.2023 11:27 servei diguohmb digestologia unitat u05uhhbl data i hora d'impressio: 20.06.2023 02:53:22 ***************************************** *************************************************************** ***************** pagina 3 de 4 informe alta hospitalitzacio - abstinencia absoluta del alcohol - control de peso diario - furosemida 40mg: 1-1-0 - espironolactona 100mg: 1-0-0 - lactulosa: 1 sobre al dia. suspender si diarrea - continuar con oxigeno a 3lx' para la deambulacion - resto de medicacion habitual - control y seguimiento en consulta ch intensivo (dra. martin) y en especialistas habituales tipus d'ingres: urgent motiu d'alta: alt.med.domicil metge adjunt: *****************, ***************** ****************************** servei: diguohmb digestologia data informe: 16.06.2023 ************* pacient cip data naix. 12.07.1962 edat 60 sexe home nass adreça cp poblacio tel. ****************** admissio 31.05.2023 12:12 alta 16.06.2023 11:27 servei diguohmb digestologia unitat u05uhhbl data i hora d'impressio: 20.06.2023 02:53:22 ***************************************** *************************************************************** ***************** pagina 4 de 4 informe alta hospitalitzacio\"}"
      ]
     },
     "execution_count": 22,
     "metadata": {},
     "output_type": "execute_result"
    }
   ],
   "source": [
    "data[0]"
   ]
  },
  {
   "cell_type": "code",
   "execution_count": 23,
   "metadata": {},
   "outputs": [
    {
     "name": "stdout",
     "output_type": "stream",
     "text": [
      "10287\n"
     ]
    }
   ],
   "source": [
    "text = data[0]['Text']\n",
    "print(len(text))\n",
    "gold = []"
   ]
  },
  {
   "cell_type": "markdown",
   "metadata": {},
   "source": [
    "## Filling a template\n",
    "\n",
    "We need to define a template. For this task, we will include only the class definitions and the text to be annotated. However, we can design different templates to incorporate more information (for example, event triggers, as demonstrated in the Event Extraction notebook).\n",
    "\n",
    "We will use Jinja templates, which are easy to implement and exceptionally fast. For more information, visit: https://jinja.palletsprojects.com/en/3.1.x/api/#high-level-api.\n",
    "\n"
   ]
  },
  {
   "cell_type": "code",
   "execution_count": 24,
   "metadata": {},
   "outputs": [],
   "source": [
    "template_txt =(\n",
    "\"\"\"# The following lines describe the task definition\n",
    "{%- for definition in guidelines %}\n",
    "{{ definition }}\n",
    "{%- endfor %}\n",
    "\n",
    "# This is the text to analyze\n",
    "text = {{ text.__repr__() }}\n",
    "\n",
    "# The annotation instances that take place in the text above are listed here\n",
    "result = [\n",
    "{%- for ann in annotations %}\n",
    "    {{ ann }},\n",
    "{%- endfor %}\n",
    "]\n",
    "\"\"\")\n"
   ]
  },
  {
   "cell_type": "code",
   "execution_count": 25,
   "metadata": {},
   "outputs": [],
   "source": [
    "\n",
    "template = jinja2Template(template_txt)\n",
    "# Fill the template\n",
    "formated_text = template.render(guidelines=guidelines, text=text, annotations=gold, gold=gold)"
   ]
  },
  {
   "cell_type": "markdown",
   "metadata": {},
   "source": [
    "### Black Code Formatter\n",
    "\n",
    "We use the Black Code Formatter to automatically unify all the prompts to the same format. \n",
    "\n",
    "https://github.com/psf/black"
   ]
  },
  {
   "cell_type": "code",
   "execution_count": 26,
   "metadata": {},
   "outputs": [],
   "source": [
    "black_mode = black.Mode()\n",
    "formated_text = black.format_str(formated_text, mode=black_mode)"
   ]
  },
  {
   "cell_type": "markdown",
   "metadata": {},
   "source": [
    "### Print the filled and formatted template"
   ]
  },
  {
   "cell_type": "code",
   "execution_count": 27,
   "metadata": {},
   "outputs": [
    {
     "data": {
      "text/html": [
       "<pre style=\"white-space:pre;overflow-x:auto;line-height:normal;font-family:Menlo,'DejaVu Sans Mono',consolas,'Courier New',monospace\"># The following lines describe the task definition\n",
       "@dataclass\n",
       "class <span style=\"color: #800080; text-decoration-color: #800080; font-weight: bold\">Medication</span><span style=\"font-weight: bold\">(</span>Template<span style=\"font-weight: bold\">)</span>:\n",
       "    <span style=\"color: #008000; text-decoration-color: #008000\">\"\"</span>\"Refers to a drug or substance used to diagnose, cure, treat, or prevent disease.\n",
       "    Medications can be administered in various forms and dosages and are crucial\n",
       "    in managing patient health conditions. They can be classified based on their\n",
       "    therapeutic use, mechanism of action, or chemical characteristics.<span style=\"color: #008000; text-decoration-color: #008000\">\"\"</span>\"\n",
       "\n",
       "    mention: str\n",
       "    <span style=\"color: #008000; text-decoration-color: #008000\">\"\"</span>\"\n",
       "    The name of the medication.\n",
       "    Such as: <span style=\"color: #008000; text-decoration-color: #008000\">\"Aspirina\"</span>, <span style=\"color: #008000; text-decoration-color: #008000\">\"Ibuprofeno\"</span>, <span style=\"color: #008000; text-decoration-color: #008000\">\"Aspirina\"</span>.\n",
       "    <span style=\"color: #008000; text-decoration-color: #008000\">\"\"</span>\"\n",
       "    dosage: str  # The amount and frequency at which the medication is prescribed. Such as: <span style=\"color: #008000; text-decoration-color: #008000\">\"100 mg al día\"</span>, <span style=\"color: #008000; text-decoration-color: #008000\">\"200 </span>\n",
       "<span style=\"color: #008000; text-decoration-color: #008000\">mg dos veces al día\"</span>\n",
       "    route: str  # The method of administration for the medication. Such as: <span style=\"color: #008000; text-decoration-color: #008000\">\"oral\"</span>, <span style=\"color: #008000; text-decoration-color: #008000\">\"intravenoso\"</span>, <span style=\"color: #008000; text-decoration-color: #008000\">\"tópico\"</span>\n",
       "    purpose: List<span style=\"font-weight: bold\">[</span>\n",
       "        str\n",
       "    <span style=\"font-weight: bold\">]</span>  # List of reasons or conditions for which the medication is prescribed. Such as: <span style=\"font-weight: bold\">[</span><span style=\"color: #008000; text-decoration-color: #008000\">\"dolor\"</span>, <span style=\"color: #008000; text-decoration-color: #008000\">\"control de </span>\n",
       "<span style=\"color: #008000; text-decoration-color: #008000\">azúcar en la sangre\"</span>, <span style=\"color: #008000; text-decoration-color: #008000\">\"inflamación\"</span><span style=\"font-weight: bold\">]</span>\n",
       "\n",
       "\n",
       "@dataclass\n",
       "class <span style=\"color: #800080; text-decoration-color: #800080; font-weight: bold\">Ilness</span><span style=\"font-weight: bold\">(</span>Template<span style=\"font-weight: bold\">)</span>:\n",
       "    <span style=\"color: #008000; text-decoration-color: #008000\">\"\"</span>\"Refers to a health condition or disease that affects the body's normal functioning.\n",
       "    Illnesses can be caused by various factors, such as infections, genetic disorders,\n",
       "    lifestyle choices, or environmental factors. They can affect different body systems\n",
       "    and have varying degrees of severity.<span style=\"color: #008000; text-decoration-color: #008000\">\"\"</span>\"\n",
       "\n",
       "    mention: str\n",
       "    <span style=\"color: #008000; text-decoration-color: #008000\">\"\"</span>\"\n",
       "    The name of the illness or health condition.\n",
       "    Such as: <span style=\"color: #008000; text-decoration-color: #008000\">\"diabetes\"</span>, <span style=\"color: #008000; text-decoration-color: #008000\">\"cáncer\"</span>, <span style=\"color: #008000; text-decoration-color: #008000\">\"hipertensión\"</span>.\n",
       "    <span style=\"color: #008000; text-decoration-color: #008000\">\"\"</span>\"\n",
       "    symptoms: List<span style=\"font-weight: bold\">[</span>\n",
       "        str\n",
       "    <span style=\"font-weight: bold\">]</span>  # List of signs or symptoms associated with the illness. Such as: <span style=\"font-weight: bold\">[</span><span style=\"color: #008000; text-decoration-color: #008000\">\"dolor de cabeza\"</span>, <span style=\"color: #008000; text-decoration-color: #008000\">\"fatiga\"</span>, <span style=\"color: #008000; text-decoration-color: #008000\">\"fiebre\"</span><span style=\"font-weight: bold\">]</span>\n",
       "    treatment: List<span style=\"font-weight: bold\">[</span>\n",
       "        str\n",
       "    <span style=\"font-weight: bold\">]</span>  # List of treatments or interventions used to manage the illness. Such as: <span style=\"font-weight: bold\">[</span><span style=\"color: #008000; text-decoration-color: #008000\">\"medicamentos\"</span>, <span style=\"color: #008000; text-decoration-color: #008000\">\"cirugía\"</span>, \n",
       "<span style=\"color: #008000; text-decoration-color: #008000\">\"terapia física\"</span><span style=\"font-weight: bold\">]</span>\n",
       "\n",
       "\n",
       "@dataclass\n",
       "class HospitalizationData:\n",
       "    <span style=\"color: #008000; text-decoration-color: #008000\">\"\"</span>\"Refers to information related to a patient's hospitalization, including the\n",
       "    admission date, discharge date, and reason for hospitalization. Hospitalization\n",
       "    data is essential for tracking patient health status, treatment progress, and\n",
       "    healthcare resource utilization.<span style=\"color: #008000; text-decoration-color: #008000\">\"\"</span>\"\n",
       "\n",
       "    admission_date: str  # The date on which the patient was admitted to the hospital.\n",
       "    discharge_date: str  # The date on which the patient was discharged from the hospital.\n",
       "    reason: str  # the reason or cause for the patient's hospitalization.\n",
       "\n",
       "\n",
       "# This is the text to analyze\n",
       "text = <span style=\"color: #008000; text-decoration-color: #008000\">\" diagnostic alta codi icd-10 descripcio diagnostic k70.3 cirrosi hepatica alcoholica r18.8 altres tipus </span>\n",
       "<span style=\"color: #008000; text-decoration-color: #008000\">d'ascites dades informe motivo de ingreso: mal estado general antecedentes personales: no ram. hta. disnea a </span>\n",
       "<span style=\"color: #008000; text-decoration-color: #008000\">pequeños esfuerzos y epoc gold ii en seguimiento en neumologia en tratamiento broncodilatador y oxigenoterapia en </span>\n",
       "<span style=\"color: #008000; text-decoration-color: #008000\">concentrador portatil a 3lx' para la deambulacion desde enero 2023. elevacion de hemidiafragma izquierdo y </span>\n",
       "<span style=\"color: #008000; text-decoration-color: #008000\">adenopatia hiliar derecha con captacion en pet-tc estudiado con ebus + fbs sin lesiones endobronquiales y con ap </span>\n",
       "<span style=\"color: #008000; text-decoration-color: #008000\">negativa para malignidad del bas y adenopatias puncionadas. hemorragia digestiva baja secundaria a colitis </span>\n",
       "<span style=\"color: #008000; text-decoration-color: #008000\">isquemica en setiembre 2022 (cordoba). colelitiasis. - cirrosis hepatica enolica child c en seguimiento en consulta</span>\n",
       "<span style=\"color: #008000; text-decoration-color: #008000\">ch intensivo (dra. martin) **descompensacion edemo-ascitica en junio 2022 con empeoramiento tras ingreso </span>\n",
       "<span style=\"color: #008000; text-decoration-color: #008000\">hospitalario por colitis isquemica (setiembre 2022), en tratamiento diuretico con espironolactona 200mg/dia + </span>\n",
       "<span style=\"color: #008000; text-decoration-color: #008000\">furosemida 80mg/dia desde el 18.05.23 **encefalopatia hepatica en agosto 2022. en tratamiento con lactulosa + </span>\n",
       "<span style=\"color: #008000; text-decoration-color: #008000\">rifaximina desde noviembre 2022 **varices esofagicas pequeñas con signos de riesgo (fgs en setiembre - cordoba) en </span>\n",
       "<span style=\"color: #008000; text-decoration-color: #008000\">tratamiento con carvedilol 6.25mg/12horas **ultima ecografia en marzo 2023: no loes hepaticas, porta </span>\n",
       "<span style=\"color: #008000; text-decoration-color: #008000\">permeable,discreta cantidad de liquido libre perihepatico y en pelvis ex enolismo cronico, abstinente desde </span>\n",
       "<span style=\"color: #008000; text-decoration-color: #008000\">setiembre 2022. fumador 5-6 cig/dia tratamiento habitual: acfol 5mg/dia, carvedilol 6.25mg/12horas, espironolactona</span>\n",
       "<span style=\"color: #008000; text-decoration-color: #008000\">200mg/dia, furosemida 80mg/dia, lactulosa, spiolto 2ing/12horas, iabvd. vive con su madre. enfermedad actual traido</span>\n",
       "<span style=\"color: #008000; text-decoration-color: #008000\">por familiares a urgencias por deterioro del estado general, somnolencia, astenia y aumento de edemas en miembros </span>\n",
       "<span style=\"color: #008000; text-decoration-color: #008000\">inferiores a pesar de aumento de diureticos. refiere tambien que hace una semana cursa con deposiciones blandas </span>\n",
       "<span style=\"color: #008000; text-decoration-color: #008000\">(3-4 deposiciones/dia) sin productos patologicos motivo por el cual suspendio lactulosa. no fiebre, no sintomas </span>\n",
       "<span style=\"color: #008000; text-decoration-color: #008000\">urinarios, no dolor abdominal. hoy empeoramiento de su disnea habitual. exploracion fisica urgencias: tº 35.9, tas </span>\n",
       "<span style=\"color: #008000; text-decoration-color: #008000\">150, tad 65, sato2 bas 94, fr 16, fc 57 estado general conservado, piel y mucosas hidratadas levemente ictericas. </span>\n",
       "<span style=\"color: #008000; text-decoration-color: #008000\">nrl: consciente, orientado en tiempo, espacio y persona, discurso fluido y coherente, no flapping. ac: ruidos </span>\n",
       "<span style=\"color: #008000; text-decoration-color: #008000\">cardiacos ritmicos sin soplos. ar: crepitantes basales bilaterales e hipofonesis basal izquierda. ************* </span>\n",
       "<span style=\"color: #008000; text-decoration-color: #008000\">pacient cip data naix. 12.07.1962 edat 60 sexe home nass adreça cp poblacio tel. ****************** admissio </span>\n",
       "<span style=\"color: #008000; text-decoration-color: #008000\">31.05.2023 12:12 alta 16.06.2023 11:27 servei diguohmb digestologia unitat u05uhhbl data i hora d'impressio: </span>\n",
       "<span style=\"color: #008000; text-decoration-color: #008000\">20.06.2023 02:53:22 ***************************************** </span>\n",
       "<span style=\"color: #008000; text-decoration-color: #008000\">*************************************************************** ***************** pagina 1 de 4 informe alta </span>\n",
       "<span style=\"color: #008000; text-decoration-color: #008000\">hospitalitzacio abdomen globuloso, blando, depresible, no palpo masas ni megalias, rha conservados, no dolor a la </span>\n",
       "<span style=\"color: #008000; text-decoration-color: #008000\">palpacion, sin reaccion peritoneal, edema de pared. eeii: presenta edemas en eeii hasta muslos, fovea ++. planta </span>\n",
       "<span style=\"color: #008000; text-decoration-color: #008000\">digestivo ta 143/74 fc72 afebril. sato2 basal 90% ap: hipofonesis en base izquierda. abd: globuloso, no clara </span>\n",
       "<span style=\"color: #008000; text-decoration-color: #008000\">semiologia ascitica. no irritacion peritoneal. rha + ext: edemas ++/+++ hasta muslos sn: consciente y orientado. no</span>\n",
       "<span style=\"color: #008000; text-decoration-color: #008000\">flapping pruebas complementarias: + analitica: leucocitos 5740 (n 3220, l 1600), hb 123 g/l, plaquetas 140000, tp </span>\n",
       "<span style=\"color: #008000; text-decoration-color: #008000\">49%, inr 1.64, ttpa 1.55, glucosa 48mg/dl, creatinina 1.7 mg/dl, fg 43.98 ml/min, urea 22.1 mg/dl, sodio 139.0 </span>\n",
       "<span style=\"color: #008000; text-decoration-color: #008000\">mmol/l, potasio 4.0 mmol/l, alt 19.8 ui/l, albumina 1.5 g/dl, pcr 2.79 mg/l, + eab (arterial): ph 7.366, co2 24.6 </span>\n",
       "<span style=\"color: #008000; text-decoration-color: #008000\">mmhg, o2 65.8 mmhg, bic 13.8 mmol/l, be -9.1, sat. 89.8%. + sedimento urinario: eritrocitos 20-50/c, leucocitos </span>\n",
       "<span style=\"color: #008000; text-decoration-color: #008000\">3-5/c. + rx torax : elevacion de hemidiafragma izquierdo, borramiento de angulo costofrenico izquierdo. - </span>\n",
       "<span style=\"color: #008000; text-decoration-color: #008000\">paracentesis x3 : blanca - analitica 01.06: leucocitos 3910, hb 10.9 g/dl, hto 30%, vcm 92, plaquetas 108000, tp </span>\n",
       "<span style=\"color: #008000; text-decoration-color: #008000\">43%, glucosa 133 mg/dl, na 143, k 4.2, br 3.77 mg/dl, ast/alt 37/21, fa/ggt 82/15, pcr 1. - hemocultivo: negativo -</span>\n",
       "<span style=\"color: #008000; text-decoration-color: #008000\">coprocultivo: negativo - adenovirus y rotavirus en heces: negativo - gdh c. difficile en heces: negativo - pcr </span>\n",
       "<span style=\"color: #008000; text-decoration-color: #008000\">covid: negativo - ecocardiograma : fevi conservado. hallazgos compatibles con cardiopatia hipertensiva. - </span>\n",
       "<span style=\"color: #008000; text-decoration-color: #008000\">urocultivo: negativo - gammagrafia : no hay imagenes sugestivas de corresponder con tep en la gpp obtenida y, en </span>\n",
       "<span style=\"color: #008000; text-decoration-color: #008000\">todo caso, valoramos el estudio indeterminado en localizacion de la base pulmonar izquierda donde hay una </span>\n",
       "<span style=\"color: #008000; text-decoration-color: #008000\">hipoperfusion moderada no segmentaria que coincide con alteracion radiologica (atelectasia/colapso basal sin </span>\n",
       "<span style=\"color: #008000; text-decoration-color: #008000\">descartar sobreinfeccion asociada?? y elevacion de este hemidiafragma). - cateterismo hepatico y cardiopulmonar: </span>\n",
       "<span style=\"color: #008000; text-decoration-color: #008000\">cateterismo de venas suprahepaticas por via yugular. obtencion de presiones hepaticas mediante cateter balon. </span>\n",
       "<span style=\"color: #008000; text-decoration-color: #008000\">mediciones repetidas de la presion suprahepatica enclavada (pse) y del gradiente de presion venosa hepatica (gpvh).</span>\n",
       "<span style=\"color: #008000; text-decoration-color: #008000\">resultados (mmhg) pse:31.0 psl:15.5 gpvh: 15.5 pvci: 15.5 pad: 13.0 2. cateterismo cardiopulmonar. pap: 32.0 mm hg </span>\n",
       "<span style=\"color: #008000; text-decoration-color: #008000\">pcp: 28.0 mm hg pad: 13.0 mm hg gc: 10.1 l/min pam: 115 mm hg fc: 74 latidos/min ic: 4.9 l/min/m2 sv: 136 ml/latido</span>\n",
       "<span style=\"color: #008000; text-decoration-color: #008000\">rvs: 808 dynas*seg*cm-5 irvs: 1665 dynas*seg*cm-5 rvp: 32 dynas*seg*cm-5 irvp: 65 dynas*seg*cm-5 pap al final de la</span>\n",
       "<span style=\"color: #008000; text-decoration-color: #008000\">espiracion: 35.0 mm hg ************* pacient cip data naix. 12.07.1962 edat 60 sexe home nass adreça cp poblacio </span>\n",
       "<span style=\"color: #008000; text-decoration-color: #008000\">tel. ****************** admissio 31.05.2023 12:12 alta 16.06.2023 11:27 servei diguohmb digestologia unitat </span>\n",
       "<span style=\"color: #008000; text-decoration-color: #008000\">u05uhhbl data i hora d'impressio: 20.06.2023 02:53:22 ***************************************** </span>\n",
       "<span style=\"color: #008000; text-decoration-color: #008000\">*************************************************************** ***************** pagina 2 de 4 informe alta </span>\n",
       "<span style=\"color: #008000; text-decoration-color: #008000\">hospitalitzacio conclusiones 1.- cateterismo cardiopulmonar con presiones cardiopulmonares elevadas (pap 32 mmhg, </span>\n",
       "<span style=\"color: #008000; text-decoration-color: #008000\">pcp 28 mmhg, ad 13mmhg). gasto cardiaco de 10,1 l/min). 2.- hipertension portal sinusoidal clinicamente </span>\n",
       "<span style=\"color: #008000; text-decoration-color: #008000\">significativa con gpvh de 15,5mmhg, no se observan comunicantes veno-venosas. - orina de 24horas: total diuresis: </span>\n",
       "<span style=\"color: #008000; text-decoration-color: #008000\">1.4 l/dia. albumina 5125 mg/dia proteinuria 7.39 g/24horas orientacion diagnostica - insuficiencia renal aguda en </span>\n",
       "<span style=\"color: #008000; text-decoration-color: #008000\">paciente con enfermedad renal cronica en estudio paciente que en analitica de ingreso tenia cr de 1.7 mg/dl, fg 43 </span>\n",
       "<span style=\"color: #008000; text-decoration-color: #008000\">ml/min cuando previamente tenia filtrados habituales de 70 ml/min, cr 1.1 mg/dl. se oriento como de origen </span>\n",
       "<span style=\"color: #008000; text-decoration-color: #008000\">prerrenal en contexto de aumento de la dosis de diureticos (estaba con espironolactona 200mg/dia + furosemida </span>\n",
       "<span style=\"color: #008000; text-decoration-color: #008000\">80mg/dia ). recibio expansion con albumina 1 g/kg (80gr) el dia 31.05 y posteriormente 2 ampollas/ 12 h ev sin </span>\n",
       "<span style=\"color: #008000; text-decoration-color: #008000\">mayor mejoria de la funcion renal a pesar de reexpansion con albumina por lo que se suspendio albumina que se </span>\n",
       "<span style=\"color: #008000; text-decoration-color: #008000\">vuelve a reiniciar el dia 8/06 y se mantiene durante otras 72h. en contexto de sobrecarga de volumen el paciente </span>\n",
       "<span style=\"color: #008000; text-decoration-color: #008000\">cursa con empeoramiento de disnea habitual por lo que se retira albumina y se inicia tratamiento con furosemida iv </span>\n",
       "<span style=\"color: #008000; text-decoration-color: #008000\">40mg/12horas dado que podria tratarse de una erc establecida se solicita estudio de orina de 24horas en la que se </span>\n",
       "<span style=\"color: #008000; text-decoration-color: #008000\">observa proteinuria en rangos nefroticos por lo que ha sido valorado por nefrologia, se inicia tratamiento con </span>\n",
       "<span style=\"color: #008000; text-decoration-color: #008000\">espironolactona 100mg/dia y furosemida 80mg/dia via oral. al alta con creat 1.8 y fg 39 - descompensacion </span>\n",
       "<span style=\"color: #008000; text-decoration-color: #008000\">edemo-ascitica . cirrosis hepatica enolica child c10 meld 21 puntos al ingreso con edemas que empeoran durante la </span>\n",
       "<span style=\"color: #008000; text-decoration-color: #008000\">hospitalizacion debido a que se suspendieron diureticos por insuficiencia renal. se reinicia diureticos debido a </span>\n",
       "<span style=\"color: #008000; text-decoration-color: #008000\">sobrecarga de volumen con mejoria de los edemas en miembros inferiores y disminucion del peso. se ha intentado en 3</span>\n",
       "<span style=\"color: #008000; text-decoration-color: #008000\">ocasiones realizar paracentesis diagnosticas que han sido blancas. al alta con espironolactona 100mg/dia + </span>\n",
       "<span style=\"color: #008000; text-decoration-color: #008000\">furosemida 80mg/dia y peso de 87kg. - insuficiencia respiratoria cronica mixta : sobrecarga de volumen + </span>\n",
       "<span style=\"color: #008000; text-decoration-color: #008000\">restrictivo. epoc gold ii. al ingreso disnea al reposo y desaturacion por lo que ha recibido tratamiento con </span>\n",
       "<span style=\"color: #008000; text-decoration-color: #008000\">broncodilatadores inhalados y o2 por vmk 26%. valorado por neumologia, el grado de epoc que presenta no justifica </span>\n",
       "<span style=\"color: #008000; text-decoration-color: #008000\">la disnea a minimos esfuerzos y la desaturacion. en este ingreso, se solicita gammagrafia v/ p que descarta tep </span>\n",
       "<span style=\"color: #008000; text-decoration-color: #008000\">cronico. se ha descartado sd hepato-pulmonar por ecocardiograma con contraste burbujas que no visualiza shunts. </span>\n",
       "<span style=\"color: #008000; text-decoration-color: #008000\">cateterismo cardio pulmonar que descarta sde portopulmonar . elevacion hemidiafragma izquierdo que provoca </span>\n",
       "<span style=\"color: #008000; text-decoration-color: #008000\">atelectasia pulmonar 2º. pdte de informe de tac toracico (06.06). tras inicio de furosemida iv el paciente presenta</span>\n",
       "<span style=\"color: #008000; text-decoration-color: #008000\">franca mejoria de disnea y de saturacion. al alta sat o2 93-94% al aire ambiental. seguira controles en consulta de</span>\n",
       "<span style=\"color: #008000; text-decoration-color: #008000\">neumologia. - fiebre sin foco. resuelto el 8/06 presento pico febril asociado a desaturacion puntual. se solicitan </span>\n",
       "<span style=\"color: #008000; text-decoration-color: #008000\">hemocultivos, urocultivo y se realiza paracentesis que resulta blanca. se inicia cobertura atb con ceftriaxona </span>\n",
       "<span style=\"color: #008000; text-decoration-color: #008000\">1gr/dia durante 5 dias. recomendaciones al alta - dieta baja en sal ************* pacient cip data naix. 12.07.1962</span>\n",
       "<span style=\"color: #008000; text-decoration-color: #008000\">edat 60 sexe home nass adreça cp poblacio tel. ****************** admissio 31.05.2023 12:12 alta 16.06.2023 11:27 </span>\n",
       "<span style=\"color: #008000; text-decoration-color: #008000\">servei diguohmb digestologia unitat u05uhhbl data i hora d'impressio: 20.06.2023 02:53:22 </span>\n",
       "<span style=\"color: #008000; text-decoration-color: #008000\">***************************************** *************************************************************** </span>\n",
       "<span style=\"color: #008000; text-decoration-color: #008000\">***************** pagina 3 de 4 informe alta hospitalitzacio - abstinencia absoluta del alcohol - control de peso </span>\n",
       "<span style=\"color: #008000; text-decoration-color: #008000\">diario - furosemida 40mg: 1-1-0 - espironolactona 100mg: 1-0-0 - lactulosa: 1 sobre al dia. suspender si diarrea - </span>\n",
       "<span style=\"color: #008000; text-decoration-color: #008000\">continuar con oxigeno a 3lx' para la deambulacion - resto de medicacion habitual - control y seguimiento en </span>\n",
       "<span style=\"color: #008000; text-decoration-color: #008000\">consulta ch intensivo (dra. martin) y en especialistas habituales tipus d'ingres: urgent motiu d'alta: </span>\n",
       "<span style=\"color: #008000; text-decoration-color: #008000\">alt.med.domicil metge adjunt: *****************, ***************** ****************************** servei: diguohmb </span>\n",
       "<span style=\"color: #008000; text-decoration-color: #008000\">digestologia data informe: 16.06.2023 ************* pacient cip data naix. 12.07.1962 edat 60 sexe home nass adreça</span>\n",
       "<span style=\"color: #008000; text-decoration-color: #008000\">cp poblacio tel. ****************** admissio 31.05.2023 12:12 alta 16.06.2023 11:27 servei diguohmb digestologia </span>\n",
       "<span style=\"color: #008000; text-decoration-color: #008000\">unitat u05uhhbl data i hora d'impressio: 20.06.2023 02:53:22 ***************************************** </span>\n",
       "<span style=\"color: #008000; text-decoration-color: #008000\">*************************************************************** ***************** pagina 4 de 4 informe alta </span>\n",
       "<span style=\"color: #008000; text-decoration-color: #008000\">hospitalitzacio\"</span>\n",
       "\n",
       "# The annotation instances that take place in the text above are listed here\n",
       "result = <span style=\"font-weight: bold\">[]</span>\n",
       "\n",
       "</pre>\n"
      ],
      "text/plain": [
       "# The following lines describe the task definition\n",
       "@dataclass\n",
       "class \u001b[1;35mMedication\u001b[0m\u001b[1m(\u001b[0mTemplate\u001b[1m)\u001b[0m:\n",
       "    \u001b[32m\"\"\u001b[0m\"Refers to a drug or substance used to diagnose, cure, treat, or prevent disease.\n",
       "    Medications can be administered in various forms and dosages and are crucial\n",
       "    in managing patient health conditions. They can be classified based on their\n",
       "    therapeutic use, mechanism of action, or chemical characteristics.\u001b[32m\"\"\u001b[0m\"\n",
       "\n",
       "    mention: str\n",
       "    \u001b[32m\"\"\u001b[0m\"\n",
       "    The name of the medication.\n",
       "    Such as: \u001b[32m\"Aspirina\"\u001b[0m, \u001b[32m\"Ibuprofeno\"\u001b[0m, \u001b[32m\"Aspirina\"\u001b[0m.\n",
       "    \u001b[32m\"\"\u001b[0m\"\n",
       "    dosage: str  # The amount and frequency at which the medication is prescribed. Such as: \u001b[32m\"100 mg al día\"\u001b[0m, \u001b[32m\"200 \u001b[0m\n",
       "\u001b[32mmg dos veces al día\"\u001b[0m\n",
       "    route: str  # The method of administration for the medication. Such as: \u001b[32m\"oral\"\u001b[0m, \u001b[32m\"intravenoso\"\u001b[0m, \u001b[32m\"tópico\"\u001b[0m\n",
       "    purpose: List\u001b[1m[\u001b[0m\n",
       "        str\n",
       "    \u001b[1m]\u001b[0m  # List of reasons or conditions for which the medication is prescribed. Such as: \u001b[1m[\u001b[0m\u001b[32m\"dolor\"\u001b[0m, \u001b[32m\"control de \u001b[0m\n",
       "\u001b[32mazúcar en la sangre\"\u001b[0m, \u001b[32m\"inflamación\"\u001b[0m\u001b[1m]\u001b[0m\n",
       "\n",
       "\n",
       "@dataclass\n",
       "class \u001b[1;35mIlness\u001b[0m\u001b[1m(\u001b[0mTemplate\u001b[1m)\u001b[0m:\n",
       "    \u001b[32m\"\"\u001b[0m\"Refers to a health condition or disease that affects the body's normal functioning.\n",
       "    Illnesses can be caused by various factors, such as infections, genetic disorders,\n",
       "    lifestyle choices, or environmental factors. They can affect different body systems\n",
       "    and have varying degrees of severity.\u001b[32m\"\"\u001b[0m\"\n",
       "\n",
       "    mention: str\n",
       "    \u001b[32m\"\"\u001b[0m\"\n",
       "    The name of the illness or health condition.\n",
       "    Such as: \u001b[32m\"diabetes\"\u001b[0m, \u001b[32m\"cáncer\"\u001b[0m, \u001b[32m\"hipertensión\"\u001b[0m.\n",
       "    \u001b[32m\"\"\u001b[0m\"\n",
       "    symptoms: List\u001b[1m[\u001b[0m\n",
       "        str\n",
       "    \u001b[1m]\u001b[0m  # List of signs or symptoms associated with the illness. Such as: \u001b[1m[\u001b[0m\u001b[32m\"dolor de cabeza\"\u001b[0m, \u001b[32m\"fatiga\"\u001b[0m, \u001b[32m\"fiebre\"\u001b[0m\u001b[1m]\u001b[0m\n",
       "    treatment: List\u001b[1m[\u001b[0m\n",
       "        str\n",
       "    \u001b[1m]\u001b[0m  # List of treatments or interventions used to manage the illness. Such as: \u001b[1m[\u001b[0m\u001b[32m\"medicamentos\"\u001b[0m, \u001b[32m\"cirugía\"\u001b[0m, \n",
       "\u001b[32m\"terapia física\"\u001b[0m\u001b[1m]\u001b[0m\n",
       "\n",
       "\n",
       "@dataclass\n",
       "class HospitalizationData:\n",
       "    \u001b[32m\"\"\u001b[0m\"Refers to information related to a patient's hospitalization, including the\n",
       "    admission date, discharge date, and reason for hospitalization. Hospitalization\n",
       "    data is essential for tracking patient health status, treatment progress, and\n",
       "    healthcare resource utilization.\u001b[32m\"\"\u001b[0m\"\n",
       "\n",
       "    admission_date: str  # The date on which the patient was admitted to the hospital.\n",
       "    discharge_date: str  # The date on which the patient was discharged from the hospital.\n",
       "    reason: str  # the reason or cause for the patient's hospitalization.\n",
       "\n",
       "\n",
       "# This is the text to analyze\n",
       "text = \u001b[32m\" diagnostic alta codi icd-10 descripcio diagnostic k70.3 cirrosi hepatica alcoholica r18.8 altres tipus \u001b[0m\n",
       "\u001b[32md'ascites dades informe motivo de ingreso: mal estado general antecedentes personales: no ram. hta. disnea a \u001b[0m\n",
       "\u001b[32mpequeños esfuerzos y epoc gold ii en seguimiento en neumologia en tratamiento broncodilatador y oxigenoterapia en \u001b[0m\n",
       "\u001b[32mconcentrador portatil a 3lx' para la deambulacion desde enero 2023. elevacion de hemidiafragma izquierdo y \u001b[0m\n",
       "\u001b[32madenopatia hiliar derecha con captacion en pet-tc estudiado con ebus + fbs sin lesiones endobronquiales y con ap \u001b[0m\n",
       "\u001b[32mnegativa para malignidad del bas y adenopatias puncionadas. hemorragia digestiva baja secundaria a colitis \u001b[0m\n",
       "\u001b[32misquemica en setiembre 2022 \u001b[0m\u001b[32m(\u001b[0m\u001b[32mcordoba\u001b[0m\u001b[32m)\u001b[0m\u001b[32m. colelitiasis. - cirrosis hepatica enolica child c en seguimiento en consulta\u001b[0m\n",
       "\u001b[32mch intensivo \u001b[0m\u001b[32m(\u001b[0m\u001b[32mdra. martin\u001b[0m\u001b[32m)\u001b[0m\u001b[32m **descompensacion edemo-ascitica en junio 2022 con empeoramiento tras ingreso \u001b[0m\n",
       "\u001b[32mhospitalario por colitis isquemica \u001b[0m\u001b[32m(\u001b[0m\u001b[32msetiembre 2022\u001b[0m\u001b[32m)\u001b[0m\u001b[32m, en tratamiento diuretico con espironolactona 200mg/dia + \u001b[0m\n",
       "\u001b[32mfurosemida 80mg/dia desde el 18.05.23 **encefalopatia hepatica en agosto 2022. en tratamiento con lactulosa + \u001b[0m\n",
       "\u001b[32mrifaximina desde noviembre 2022 **varices esofagicas pequeñas con signos de riesgo \u001b[0m\u001b[32m(\u001b[0m\u001b[32mfgs en setiembre - cordoba\u001b[0m\u001b[32m)\u001b[0m\u001b[32m en \u001b[0m\n",
       "\u001b[32mtratamiento con carvedilol 6.25mg/12horas **ultima ecografia en marzo 2023: no loes hepaticas, porta \u001b[0m\n",
       "\u001b[32mpermeable,discreta cantidad de liquido libre perihepatico y en pelvis ex enolismo cronico, abstinente desde \u001b[0m\n",
       "\u001b[32msetiembre 2022. fumador 5-6 cig/dia tratamiento habitual: acfol 5mg/dia, carvedilol 6.25mg/12horas, espironolactona\u001b[0m\n",
       "\u001b[32m200mg/dia, furosemida 80mg/dia, lactulosa, spiolto 2ing/12horas, iabvd. vive con su madre. enfermedad actual traido\u001b[0m\n",
       "\u001b[32mpor familiares a urgencias por deterioro del estado general, somnolencia, astenia y aumento de edemas en miembros \u001b[0m\n",
       "\u001b[32minferiores a pesar de aumento de diureticos. refiere tambien que hace una semana cursa con deposiciones blandas \u001b[0m\n",
       "\u001b[32m(\u001b[0m\u001b[32m3-4 deposiciones/dia\u001b[0m\u001b[32m)\u001b[0m\u001b[32m sin productos patologicos motivo por el cual suspendio lactulosa. no fiebre, no sintomas \u001b[0m\n",
       "\u001b[32murinarios, no dolor abdominal. hoy empeoramiento de su disnea habitual. exploracion fisica urgencias: tº 35.9, tas \u001b[0m\n",
       "\u001b[32m150, tad 65, sato2 bas 94, fr 16, fc 57 estado general conservado, piel y mucosas hidratadas levemente ictericas. \u001b[0m\n",
       "\u001b[32mnrl: consciente, orientado en tiempo, espacio y persona, discurso fluido y coherente, no flapping. ac: ruidos \u001b[0m\n",
       "\u001b[32mcardiacos ritmicos sin soplos. ar: crepitantes basales bilaterales e hipofonesis basal izquierda. ************* \u001b[0m\n",
       "\u001b[32mpacient cip data naix. 12.07.1962 edat 60 sexe home nass adreça cp poblacio tel. ****************** admissio \u001b[0m\n",
       "\u001b[32m31.05.2023 12:12 alta 16.06.2023 11:27 servei diguohmb digestologia unitat u05uhhbl data i hora d'impressio: \u001b[0m\n",
       "\u001b[32m20.06.2023 02:53:22 ***************************************** \u001b[0m\n",
       "\u001b[32m*************************************************************** ***************** pagina 1 de 4 informe alta \u001b[0m\n",
       "\u001b[32mhospitalitzacio abdomen globuloso, blando, depresible, no palpo masas ni megalias, rha conservados, no dolor a la \u001b[0m\n",
       "\u001b[32mpalpacion, sin reaccion peritoneal, edema de pared. eeii: presenta edemas en eeii hasta muslos, fovea ++. planta \u001b[0m\n",
       "\u001b[32mdigestivo ta 143/74 fc72 afebril. sato2 basal 90% ap: hipofonesis en base izquierda. abd: globuloso, no clara \u001b[0m\n",
       "\u001b[32msemiologia ascitica. no irritacion peritoneal. rha + ext: edemas ++/+++ hasta muslos sn: consciente y orientado. no\u001b[0m\n",
       "\u001b[32mflapping pruebas complementarias: + analitica: leucocitos 5740 \u001b[0m\u001b[32m(\u001b[0m\u001b[32mn 3220, l 1600\u001b[0m\u001b[32m)\u001b[0m\u001b[32m, hb 123 g/l, plaquetas 140000, tp \u001b[0m\n",
       "\u001b[32m49%, inr 1.64, ttpa 1.55, glucosa 48mg/dl, creatinina 1.7 mg/dl, fg 43.98 ml/min, urea 22.1 mg/dl, sodio 139.0 \u001b[0m\n",
       "\u001b[32mmmol/l, potasio 4.0 mmol/l, alt 19.8 ui/l, albumina 1.5 g/dl, pcr 2.79 mg/l, + eab \u001b[0m\u001b[32m(\u001b[0m\u001b[32marterial\u001b[0m\u001b[32m)\u001b[0m\u001b[32m: ph 7.366, co2 24.6 \u001b[0m\n",
       "\u001b[32mmmhg, o2 65.8 mmhg, bic 13.8 mmol/l, be -9.1, sat. 89.8%. + sedimento urinario: eritrocitos 20-50/c, leucocitos \u001b[0m\n",
       "\u001b[32m3-5/c. + rx torax : elevacion de hemidiafragma izquierdo, borramiento de angulo costofrenico izquierdo. - \u001b[0m\n",
       "\u001b[32mparacentesis x3 : blanca - analitica 01.06: leucocitos 3910, hb 10.9 g/dl, hto 30%, vcm 92, plaquetas 108000, tp \u001b[0m\n",
       "\u001b[32m43%, glucosa 133 mg/dl, na 143, k 4.2, br 3.77 mg/dl, ast/alt 37/21, fa/ggt 82/15, pcr 1. - hemocultivo: negativo -\u001b[0m\n",
       "\u001b[32mcoprocultivo: negativo - adenovirus y rotavirus en heces: negativo - gdh c. difficile en heces: negativo - pcr \u001b[0m\n",
       "\u001b[32mcovid: negativo - ecocardiograma : fevi conservado. hallazgos compatibles con cardiopatia hipertensiva. - \u001b[0m\n",
       "\u001b[32murocultivo: negativo - gammagrafia : no hay imagenes sugestivas de corresponder con tep en la gpp obtenida y, en \u001b[0m\n",
       "\u001b[32mtodo caso, valoramos el estudio indeterminado en localizacion de la base pulmonar izquierda donde hay una \u001b[0m\n",
       "\u001b[32mhipoperfusion moderada no segmentaria que coincide con alteracion radiologica \u001b[0m\u001b[32m(\u001b[0m\u001b[32matelectasia/colapso basal sin \u001b[0m\n",
       "\u001b[32mdescartar sobreinfeccion asociada?? y elevacion de este hemidiafragma\u001b[0m\u001b[32m)\u001b[0m\u001b[32m. - cateterismo hepatico y cardiopulmonar: \u001b[0m\n",
       "\u001b[32mcateterismo de venas suprahepaticas por via yugular. obtencion de presiones hepaticas mediante cateter balon. \u001b[0m\n",
       "\u001b[32mmediciones repetidas de la presion suprahepatica enclavada \u001b[0m\u001b[32m(\u001b[0m\u001b[32mpse\u001b[0m\u001b[32m)\u001b[0m\u001b[32m y del gradiente de presion venosa hepatica \u001b[0m\u001b[32m(\u001b[0m\u001b[32mgpvh\u001b[0m\u001b[32m)\u001b[0m\u001b[32m.\u001b[0m\n",
       "\u001b[32mresultados \u001b[0m\u001b[32m(\u001b[0m\u001b[32mmmhg\u001b[0m\u001b[32m)\u001b[0m\u001b[32m pse:31.0 psl:15.5 gpvh: 15.5 pvci: 15.5 pad: 13.0 2. cateterismo cardiopulmonar. pap: 32.0 mm hg \u001b[0m\n",
       "\u001b[32mpcp: 28.0 mm hg pad: 13.0 mm hg gc: 10.1 l/min pam: 115 mm hg fc: 74 latidos/min ic: 4.9 l/min/m2 sv: 136 ml/latido\u001b[0m\n",
       "\u001b[32mrvs: 808 dynas*seg*cm-5 irvs: 1665 dynas*seg*cm-5 rvp: 32 dynas*seg*cm-5 irvp: 65 dynas*seg*cm-5 pap al final de la\u001b[0m\n",
       "\u001b[32mespiracion: 35.0 mm hg ************* pacient cip data naix. 12.07.1962 edat 60 sexe home nass adreça cp poblacio \u001b[0m\n",
       "\u001b[32mtel. ****************** admissio 31.05.2023 12:12 alta 16.06.2023 11:27 servei diguohmb digestologia unitat \u001b[0m\n",
       "\u001b[32mu05uhhbl data i hora d'impressio: 20.06.2023 02:53:22 ***************************************** \u001b[0m\n",
       "\u001b[32m*************************************************************** ***************** pagina 2 de 4 informe alta \u001b[0m\n",
       "\u001b[32mhospitalitzacio conclusiones 1.- cateterismo cardiopulmonar con presiones cardiopulmonares elevadas \u001b[0m\u001b[32m(\u001b[0m\u001b[32mpap 32 mmhg, \u001b[0m\n",
       "\u001b[32mpcp 28 mmhg, ad 13mmhg\u001b[0m\u001b[32m)\u001b[0m\u001b[32m. gasto cardiaco de 10,1 l/min\u001b[0m\u001b[32m)\u001b[0m\u001b[32m. 2.- hipertension portal sinusoidal clinicamente \u001b[0m\n",
       "\u001b[32msignificativa con gpvh de 15,5mmhg, no se observan comunicantes veno-venosas. - orina de 24horas: total diuresis: \u001b[0m\n",
       "\u001b[32m1.4 l/dia. albumina 5125 mg/dia proteinuria 7.39 g/24horas orientacion diagnostica - insuficiencia renal aguda en \u001b[0m\n",
       "\u001b[32mpaciente con enfermedad renal cronica en estudio paciente que en analitica de ingreso tenia cr de 1.7 mg/dl, fg 43 \u001b[0m\n",
       "\u001b[32mml/min cuando previamente tenia filtrados habituales de 70 ml/min, cr 1.1 mg/dl. se oriento como de origen \u001b[0m\n",
       "\u001b[32mprerrenal en contexto de aumento de la dosis de diureticos \u001b[0m\u001b[32m(\u001b[0m\u001b[32mestaba con espironolactona 200mg/dia + furosemida \u001b[0m\n",
       "\u001b[32m80mg/dia \u001b[0m\u001b[32m)\u001b[0m\u001b[32m. recibio expansion con albumina 1 g/kg \u001b[0m\u001b[32m(\u001b[0m\u001b[32m80gr\u001b[0m\u001b[32m)\u001b[0m\u001b[32m el dia 31.05 y posteriormente 2 ampollas/ 12 h ev sin \u001b[0m\n",
       "\u001b[32mmayor mejoria de la funcion renal a pesar de reexpansion con albumina por lo que se suspendio albumina que se \u001b[0m\n",
       "\u001b[32mvuelve a reiniciar el dia 8/06 y se mantiene durante otras 72h. en contexto de sobrecarga de volumen el paciente \u001b[0m\n",
       "\u001b[32mcursa con empeoramiento de disnea habitual por lo que se retira albumina y se inicia tratamiento con furosemida iv \u001b[0m\n",
       "\u001b[32m40mg/12horas dado que podria tratarse de una erc establecida se solicita estudio de orina de 24horas en la que se \u001b[0m\n",
       "\u001b[32mobserva proteinuria en rangos nefroticos por lo que ha sido valorado por nefrologia, se inicia tratamiento con \u001b[0m\n",
       "\u001b[32mespironolactona 100mg/dia y furosemida 80mg/dia via oral. al alta con creat 1.8 y fg 39 - descompensacion \u001b[0m\n",
       "\u001b[32medemo-ascitica . cirrosis hepatica enolica child c10 meld 21 puntos al ingreso con edemas que empeoran durante la \u001b[0m\n",
       "\u001b[32mhospitalizacion debido a que se suspendieron diureticos por insuficiencia renal. se reinicia diureticos debido a \u001b[0m\n",
       "\u001b[32msobrecarga de volumen con mejoria de los edemas en miembros inferiores y disminucion del peso. se ha intentado en 3\u001b[0m\n",
       "\u001b[32mocasiones realizar paracentesis diagnosticas que han sido blancas. al alta con espironolactona 100mg/dia + \u001b[0m\n",
       "\u001b[32mfurosemida 80mg/dia y peso de 87kg. - insuficiencia respiratoria cronica mixta : sobrecarga de volumen + \u001b[0m\n",
       "\u001b[32mrestrictivo. epoc gold ii. al ingreso disnea al reposo y desaturacion por lo que ha recibido tratamiento con \u001b[0m\n",
       "\u001b[32mbroncodilatadores inhalados y o2 por vmk 26%. valorado por neumologia, el grado de epoc que presenta no justifica \u001b[0m\n",
       "\u001b[32mla disnea a minimos esfuerzos y la desaturacion. en este ingreso, se solicita gammagrafia v/ p que descarta tep \u001b[0m\n",
       "\u001b[32mcronico. se ha descartado sd hepato-pulmonar por ecocardiograma con contraste burbujas que no visualiza shunts. \u001b[0m\n",
       "\u001b[32mcateterismo cardio pulmonar que descarta sde portopulmonar . elevacion hemidiafragma izquierdo que provoca \u001b[0m\n",
       "\u001b[32matelectasia pulmonar 2º. pdte de informe de tac toracico \u001b[0m\u001b[32m(\u001b[0m\u001b[32m06.06\u001b[0m\u001b[32m)\u001b[0m\u001b[32m. tras inicio de furosemida iv el paciente presenta\u001b[0m\n",
       "\u001b[32mfranca mejoria de disnea y de saturacion. al alta sat o2 93-94% al aire ambiental. seguira controles en consulta de\u001b[0m\n",
       "\u001b[32mneumologia. - fiebre sin foco. resuelto el 8/06 presento pico febril asociado a desaturacion puntual. se solicitan \u001b[0m\n",
       "\u001b[32mhemocultivos, urocultivo y se realiza paracentesis que resulta blanca. se inicia cobertura atb con ceftriaxona \u001b[0m\n",
       "\u001b[32m1gr/dia durante 5 dias. recomendaciones al alta - dieta baja en sal ************* pacient cip data naix. 12.07.1962\u001b[0m\n",
       "\u001b[32medat 60 sexe home nass adreça cp poblacio tel. ****************** admissio 31.05.2023 12:12 alta 16.06.2023 11:27 \u001b[0m\n",
       "\u001b[32mservei diguohmb digestologia unitat u05uhhbl data i hora d'impressio: 20.06.2023 02:53:22 \u001b[0m\n",
       "\u001b[32m***************************************** *************************************************************** \u001b[0m\n",
       "\u001b[32m***************** pagina 3 de 4 informe alta hospitalitzacio - abstinencia absoluta del alcohol - control de peso \u001b[0m\n",
       "\u001b[32mdiario - furosemida 40mg: 1-1-0 - espironolactona 100mg: 1-0-0 - lactulosa: 1 sobre al dia. suspender si diarrea - \u001b[0m\n",
       "\u001b[32mcontinuar con oxigeno a 3lx' para la deambulacion - resto de medicacion habitual - control y seguimiento en \u001b[0m\n",
       "\u001b[32mconsulta ch intensivo \u001b[0m\u001b[32m(\u001b[0m\u001b[32mdra. martin\u001b[0m\u001b[32m)\u001b[0m\u001b[32m y en especialistas habituales tipus d'ingres: urgent motiu d'alta: \u001b[0m\n",
       "\u001b[32malt.med.domicil metge adjunt: *****************, ***************** ****************************** servei: diguohmb \u001b[0m\n",
       "\u001b[32mdigestologia data informe: 16.06.2023 ************* pacient cip data naix. 12.07.1962 edat 60 sexe home nass adreça\u001b[0m\n",
       "\u001b[32mcp poblacio tel. ****************** admissio 31.05.2023 12:12 alta 16.06.2023 11:27 servei diguohmb digestologia \u001b[0m\n",
       "\u001b[32munitat u05uhhbl data i hora d'impressio: 20.06.2023 02:53:22 ***************************************** \u001b[0m\n",
       "\u001b[32m*************************************************************** ***************** pagina 4 de 4 informe alta \u001b[0m\n",
       "\u001b[32mhospitalitzacio\"\u001b[0m\n",
       "\n",
       "# The annotation instances that take place in the text above are listed here\n",
       "result = \u001b[1m[\u001b[0m\u001b[1m]\u001b[0m\n",
       "\n"
      ]
     },
     "metadata": {},
     "output_type": "display_data"
    }
   ],
   "source": [
    "rich.print(formated_text)"
   ]
  },
  {
   "cell_type": "markdown",
   "metadata": {},
   "source": [
    "## Prepare model inputs\n",
    "\n",
    "We remove everything after `result =` to run inference with the model."
   ]
  },
  {
   "cell_type": "code",
   "execution_count": 28,
   "metadata": {},
   "outputs": [],
   "source": [
    "prompt, _ = formated_text.split(\"result =\")\n",
    "prompt = prompt + \"result =\""
   ]
  },
  {
   "cell_type": "markdown",
   "metadata": {},
   "source": [
    "Tokenize the input sentence"
   ]
  },
  {
   "cell_type": "code",
   "execution_count": 29,
   "metadata": {},
   "outputs": [],
   "source": [
    "model_input = tokenizer(prompt, add_special_tokens=True, return_tensors=\"pt\")"
   ]
  },
  {
   "cell_type": "markdown",
   "metadata": {},
   "source": [
    "Remove the `eos` token from the input"
   ]
  },
  {
   "cell_type": "code",
   "execution_count": 30,
   "metadata": {},
   "outputs": [],
   "source": [
    "model_input[\"input_ids\"] = model_input[\"input_ids\"][:, :-1]\n",
    "model_input[\"attention_mask\"] = model_input[\"attention_mask\"][:, :-1]"
   ]
  },
  {
   "cell_type": "markdown",
   "metadata": {},
   "source": [
    "## Run GoLLIE\n",
    "\n",
    "We generate the predictions using GoLLIE.\n",
    "\n",
    "We use `num_beams=1` and `do_sample=False` in our exmperiments. But feel free to experiment with differen decoding strategies 😊"
   ]
  },
  {
   "cell_type": "code",
   "execution_count": 33,
   "metadata": {},
   "outputs": [
    {
     "name": "stdout",
     "output_type": "stream",
     "text": [
      "CUDA Available:  False\n",
      "Number of GPUs:  0\n"
     ]
    }
   ],
   "source": [
    "import torch\n",
    "print(\"CUDA Available: \", torch.cuda.is_available())\n",
    "print(\"Number of GPUs: \", torch.cuda.device_count())\n",
    "if torch.cuda.is_available():\n",
    "    print(\"GPU Name:\", torch.cuda.get_device_name(0))\n"
   ]
  },
  {
   "cell_type": "code",
   "execution_count": 34,
   "metadata": {},
   "outputs": [
    {
     "name": "stdout",
     "output_type": "stream",
     "text": [
      "0\n"
     ]
    },
    {
     "ename": "RuntimeError",
     "evalue": "No CUDA GPUs are available",
     "output_type": "error",
     "traceback": [
      "\u001b[0;31m---------------------------------------------------------------------------\u001b[0m",
      "\u001b[0;31mRuntimeError\u001b[0m                              Traceback (most recent call last)",
      "File \u001b[0;32m<timed exec>:3\u001b[0m\n",
      "File \u001b[0;32m~/anaconda3/lib/python3.11/site-packages/torch/cuda/__init__.py:414\u001b[0m, in \u001b[0;36mget_device_name\u001b[0;34m(device)\u001b[0m\n\u001b[1;32m    402\u001b[0m \u001b[38;5;28;01mdef\u001b[39;00m \u001b[38;5;21mget_device_name\u001b[39m(device: Optional[_device_t] \u001b[38;5;241m=\u001b[39m \u001b[38;5;28;01mNone\u001b[39;00m) \u001b[38;5;241m-\u001b[39m\u001b[38;5;241m>\u001b[39m \u001b[38;5;28mstr\u001b[39m:\n\u001b[1;32m    403\u001b[0m \u001b[38;5;250m    \u001b[39m\u001b[38;5;124mr\u001b[39m\u001b[38;5;124;03m\"\"\"Get the name of a device.\u001b[39;00m\n\u001b[1;32m    404\u001b[0m \n\u001b[1;32m    405\u001b[0m \u001b[38;5;124;03m    Args:\u001b[39;00m\n\u001b[0;32m   (...)\u001b[0m\n\u001b[1;32m    412\u001b[0m \u001b[38;5;124;03m        str: the name of the device\u001b[39;00m\n\u001b[1;32m    413\u001b[0m \u001b[38;5;124;03m    \"\"\"\u001b[39;00m\n\u001b[0;32m--> 414\u001b[0m     \u001b[38;5;28;01mreturn\u001b[39;00m get_device_properties(device)\u001b[38;5;241m.\u001b[39mname\n",
      "File \u001b[0;32m~/anaconda3/lib/python3.11/site-packages/torch/cuda/__init__.py:444\u001b[0m, in \u001b[0;36mget_device_properties\u001b[0;34m(device)\u001b[0m\n\u001b[1;32m    434\u001b[0m \u001b[38;5;28;01mdef\u001b[39;00m \u001b[38;5;21mget_device_properties\u001b[39m(device: _device_t) \u001b[38;5;241m-\u001b[39m\u001b[38;5;241m>\u001b[39m _CudaDeviceProperties:\n\u001b[1;32m    435\u001b[0m \u001b[38;5;250m    \u001b[39m\u001b[38;5;124mr\u001b[39m\u001b[38;5;124;03m\"\"\"Get the properties of a device.\u001b[39;00m\n\u001b[1;32m    436\u001b[0m \n\u001b[1;32m    437\u001b[0m \u001b[38;5;124;03m    Args:\u001b[39;00m\n\u001b[0;32m   (...)\u001b[0m\n\u001b[1;32m    442\u001b[0m \u001b[38;5;124;03m        _CudaDeviceProperties: the properties of the device\u001b[39;00m\n\u001b[1;32m    443\u001b[0m \u001b[38;5;124;03m    \"\"\"\u001b[39;00m\n\u001b[0;32m--> 444\u001b[0m     _lazy_init()  \u001b[38;5;66;03m# will define _get_device_properties\u001b[39;00m\n\u001b[1;32m    445\u001b[0m     device \u001b[38;5;241m=\u001b[39m _get_device_index(device, optional\u001b[38;5;241m=\u001b[39m\u001b[38;5;28;01mTrue\u001b[39;00m)\n\u001b[1;32m    446\u001b[0m     \u001b[38;5;28;01mif\u001b[39;00m device \u001b[38;5;241m<\u001b[39m \u001b[38;5;241m0\u001b[39m \u001b[38;5;129;01mor\u001b[39;00m device \u001b[38;5;241m>\u001b[39m\u001b[38;5;241m=\u001b[39m device_count():\n",
      "File \u001b[0;32m~/anaconda3/lib/python3.11/site-packages/torch/cuda/__init__.py:293\u001b[0m, in \u001b[0;36m_lazy_init\u001b[0;34m()\u001b[0m\n\u001b[1;32m    291\u001b[0m \u001b[38;5;28;01mif\u001b[39;00m \u001b[38;5;124m\"\u001b[39m\u001b[38;5;124mCUDA_MODULE_LOADING\u001b[39m\u001b[38;5;124m\"\u001b[39m \u001b[38;5;129;01mnot\u001b[39;00m \u001b[38;5;129;01min\u001b[39;00m os\u001b[38;5;241m.\u001b[39menviron:\n\u001b[1;32m    292\u001b[0m     os\u001b[38;5;241m.\u001b[39menviron[\u001b[38;5;124m\"\u001b[39m\u001b[38;5;124mCUDA_MODULE_LOADING\u001b[39m\u001b[38;5;124m\"\u001b[39m] \u001b[38;5;241m=\u001b[39m \u001b[38;5;124m\"\u001b[39m\u001b[38;5;124mLAZY\u001b[39m\u001b[38;5;124m\"\u001b[39m\n\u001b[0;32m--> 293\u001b[0m torch\u001b[38;5;241m.\u001b[39m_C\u001b[38;5;241m.\u001b[39m_cuda_init()\n\u001b[1;32m    294\u001b[0m \u001b[38;5;66;03m# Some of the queued calls may reentrantly call _lazy_init();\u001b[39;00m\n\u001b[1;32m    295\u001b[0m \u001b[38;5;66;03m# we need to just return without initializing in that case.\u001b[39;00m\n\u001b[1;32m    296\u001b[0m \u001b[38;5;66;03m# However, we must not let any *other* threads in!\u001b[39;00m\n\u001b[1;32m    297\u001b[0m _tls\u001b[38;5;241m.\u001b[39mis_initializing \u001b[38;5;241m=\u001b[39m \u001b[38;5;28;01mTrue\u001b[39;00m\n",
      "\u001b[0;31mRuntimeError\u001b[0m: No CUDA GPUs are available"
     ]
    }
   ],
   "source": [
    "%%time\n",
    "\n",
    "\n",
    "import torch\n",
    "print(torch.cuda.device_count())\n",
    "print(torch.cuda.get_device_name(3))  # Check if device 3 is available\n",
    "device = \"cuda:3\" if torch.cuda.is_available() else \"cpu\"\n",
    "\n",
    "model_ouput = model.generate(\n",
    "    **model_input.to(model.device),\n",
    "    max_new_tokens=128,\n",
    "    do_sample=False,\n",
    "    min_new_tokens=0,\n",
    "    num_beams=1,\n",
    "    num_return_sequences=1,\n",
    ")\n"
   ]
  },
  {
   "cell_type": "markdown",
   "metadata": {},
   "source": [
    "### Print the results"
   ]
  },
  {
   "cell_type": "code",
   "execution_count": 35,
   "metadata": {},
   "outputs": [
    {
     "ename": "NameError",
     "evalue": "name 'model_ouput' is not defined",
     "output_type": "error",
     "traceback": [
      "\u001b[0;31m---------------------------------------------------------------------------\u001b[0m",
      "\u001b[0;31mNameError\u001b[0m                                 Traceback (most recent call last)",
      "Cell \u001b[0;32mIn[35], line 1\u001b[0m\n\u001b[0;32m----> 1\u001b[0m \u001b[38;5;28;01mfor\u001b[39;00m y, x \u001b[38;5;129;01min\u001b[39;00m \u001b[38;5;28menumerate\u001b[39m(model_ouput):\n\u001b[1;32m      2\u001b[0m     \u001b[38;5;28mprint\u001b[39m(\u001b[38;5;124mf\u001b[39m\u001b[38;5;124m\"\u001b[39m\u001b[38;5;124mAnswer \u001b[39m\u001b[38;5;132;01m{\u001b[39;00my\u001b[38;5;132;01m}\u001b[39;00m\u001b[38;5;124m\"\u001b[39m)\n\u001b[1;32m      3\u001b[0m     rich\u001b[38;5;241m.\u001b[39mprint(tokenizer\u001b[38;5;241m.\u001b[39mdecode(x,skip_special_tokens\u001b[38;5;241m=\u001b[39m\u001b[38;5;28;01mTrue\u001b[39;00m)\u001b[38;5;241m.\u001b[39msplit(\u001b[38;5;124m\"\u001b[39m\u001b[38;5;124mresult = \u001b[39m\u001b[38;5;124m\"\u001b[39m)[\u001b[38;5;241m-\u001b[39m\u001b[38;5;241m1\u001b[39m])\n",
      "\u001b[0;31mNameError\u001b[0m: name 'model_ouput' is not defined"
     ]
    }
   ],
   "source": [
    "for y, x in enumerate(model_ouput):\n",
    "    print(f\"Answer {y}\")\n",
    "    rich.print(tokenizer.decode(x,skip_special_tokens=True).split(\"result = \")[-1])"
   ]
  },
  {
   "cell_type": "markdown",
   "metadata": {},
   "source": [
    "## Parse the output\n",
    "\n",
    "The output is a Python list of instances, we can execute it  🤯\n",
    "\n",
    "We define the AnnotationList class to parse the output with a single line of code. The `AnnotationList.from_output` function filters any label that we did not define (hallucinations) to prevent getting an `undefined class` error. "
   ]
  },
  {
   "cell_type": "markdown",
   "metadata": {},
   "source": [
    "result = AnnotationList.from_output(\n",
    "    tokenizer.decode(model_ouput[0],skip_special_tokens=True).split(\"result = \")[-1],\n",
    "    task_module=\"guidelines\"\n",
    "    )\n",
    "rich.print(result)"
   ]
  },
  {
   "cell_type": "code",
   "execution_count": 36,
   "metadata": {},
   "outputs": [
    {
     "ename": "NameError",
     "evalue": "name 'result' is not defined",
     "output_type": "error",
     "traceback": [
      "\u001b[0;31m---------------------------------------------------------------------------\u001b[0m",
      "\u001b[0;31mNameError\u001b[0m                                 Traceback (most recent call last)",
      "Cell \u001b[0;32mIn[36], line 1\u001b[0m\n\u001b[0;32m----> 1\u001b[0m \u001b[38;5;28mtype\u001b[39m(result[\u001b[38;5;241m0\u001b[39m])\n",
      "\u001b[0;31mNameError\u001b[0m: name 'result' is not defined"
     ]
    }
   ],
   "source": [
    "type(result[0])"
   ]
  },
  {
   "cell_type": "code",
   "execution_count": 37,
   "metadata": {},
   "outputs": [
    {
     "ename": "NameError",
     "evalue": "name 'result' is not defined",
     "output_type": "error",
     "traceback": [
      "\u001b[0;31m---------------------------------------------------------------------------\u001b[0m",
      "\u001b[0;31mNameError\u001b[0m                                 Traceback (most recent call last)",
      "Cell \u001b[0;32mIn[37], line 1\u001b[0m\n\u001b[0;32m----> 1\u001b[0m result[\u001b[38;5;241m0\u001b[39m]\u001b[38;5;241m.\u001b[39mmention\n",
      "\u001b[0;31mNameError\u001b[0m: name 'result' is not defined"
     ]
    }
   ],
   "source": [
    "result[0].mention"
   ]
  },
  {
   "cell_type": "code",
   "execution_count": null,
   "metadata": {},
   "outputs": [],
   "source": []
  }
 ],
 "metadata": {
  "kernelspec": {
   "display_name": "base",
   "language": "python",
   "name": "python3"
  },
  "language_info": {
   "codemirror_mode": {
    "name": "ipython",
    "version": 3
   },
   "file_extension": ".py",
   "mimetype": "text/x-python",
   "name": "python",
   "nbconvert_exporter": "python",
   "pygments_lexer": "ipython3",
   "version": "3.11.5"
  }
 },
 "nbformat": 4,
 "nbformat_minor": 2
}
